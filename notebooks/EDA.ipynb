{
 "cells": [
  {
   "cell_type": "code",
   "execution_count": 4,
   "metadata": {},
   "outputs": [],
   "source": [
    "import pandas as pd\n",
    "import os\n"
   ]
  },
  {
   "cell_type": "code",
   "execution_count": 2,
   "metadata": {},
   "outputs": [],
   "source": [
    "data_dir = '../data'\n",
    "\n"
   ]
  },
  {
   "cell_type": "code",
   "execution_count": 7,
   "metadata": {},
   "outputs": [
    {
     "name": "stdout",
     "output_type": "stream",
     "text": [
      "<class 'pandas.core.frame.DataFrame'>\n",
      "RangeIndex: 3710 entries, 0 to 3709\n",
      "Data columns (total 25 columns):\n",
      " #   Column                   Non-Null Count  Dtype  \n",
      "---  ------                   --------------  -----  \n",
      " 0   id                       3710 non-null   int64  \n",
      " 1   open_date                3710 non-null   object \n",
      " 2   name                     3710 non-null   object \n",
      " 3   location                 3708 non-null   object \n",
      " 4   lat                      3710 non-null   float64\n",
      " 5   lon                      3710 non-null   float64\n",
      " 6   threat                   2414 non-null   object \n",
      " 7   commodity                3102 non-null   object \n",
      " 8   max_ptl_release_gallons  2074 non-null   float64\n",
      " 9   field_10                 1778 non-null   float64\n",
      " 10  field_11                 1777 non-null   object \n",
      " 11  field_12                 1 non-null      object \n",
      " 12  field_13                 1 non-null      float64\n",
      " 13  field_14                 1 non-null      float64\n",
      " 14  field_15                 1 non-null      object \n",
      " 15  field_16                 0 non-null      float64\n",
      " 16  field_17                 0 non-null      float64\n",
      " 17  field_18                 0 non-null      float64\n",
      " 18  field_19                 0 non-null      float64\n",
      " 19  field_20                 0 non-null      float64\n",
      " 20  field_21                 0 non-null      float64\n",
      " 21  field_22                 0 non-null      float64\n",
      " 22  field_23                 0 non-null      float64\n",
      " 23  field_24                 1 non-null      float64\n",
      " 24  field_25                 1 non-null      object \n",
      "dtypes: float64(15), int64(1), object(9)\n",
      "memory usage: 724.7+ KB\n"
     ]
    }
   ],
   "source": [
    "# load and inspect data\n",
    "oilspills = pd.read_csv(os.path.join(data_dir, 'US_oilspills.csv'))\n",
    "\n",
    "oilspills.info()"
   ]
  },
  {
   "cell_type": "markdown",
   "metadata": {},
   "source": [
    "Looks like we have a number of columns that have 0 non-null value and a few 'fields' that contain 1 non-null values. Drop the columns which have all nulll values first as these contain no useful information."
   ]
  },
  {
   "cell_type": "code",
   "execution_count": 11,
   "metadata": {},
   "outputs": [
    {
     "data": {
      "text/plain": [
       "Index(['id', 'open_date', 'name', 'location', 'lat', 'lon', 'threat',\n",
       "       'commodity', 'max_ptl_release_gallons', 'field_10', 'field_11',\n",
       "       'field_12', 'field_13', 'field_14', 'field_15', 'field_24', 'field_25'],\n",
       "      dtype='object')"
      ]
     },
     "execution_count": 11,
     "metadata": {},
     "output_type": "execute_result"
    }
   ],
   "source": [
    "oilspills = oilspills.dropna(axis=1, how='all')\n",
    "oilspills.columns"
   ]
  },
  {
   "cell_type": "markdown",
   "metadata": {},
   "source": [
    "field numbers: 12,13,14,15,24 and 25 have 1 non-null value each. Let's look at these."
   ]
  },
  {
   "cell_type": "code",
   "execution_count": null,
   "metadata": {},
   "outputs": [],
   "source": [
    "oilspills[oilspills.interesting_column.notna() & (df.isnull().sum(axis=1) == len(df.columns) - 1)]\n"
   ]
  }
 ],
 "metadata": {
  "kernelspec": {
   "display_name": "Python 3",
   "language": "python",
   "name": "python3"
  },
  "language_info": {
   "codemirror_mode": {
    "name": "ipython",
    "version": 3
   },
   "file_extension": ".py",
   "mimetype": "text/x-python",
   "name": "python",
   "nbconvert_exporter": "python",
   "pygments_lexer": "ipython3",
   "version": "3.7.6"
  }
 },
 "nbformat": 4,
 "nbformat_minor": 4
}
