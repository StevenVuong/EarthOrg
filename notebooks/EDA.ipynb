{
 "cells": [
  {
   "cell_type": "code",
   "execution_count": 1,
   "metadata": {},
   "outputs": [],
   "source": [
    "import pandas as pd\n",
    "import os\n",
    "import pprint\n"
   ]
  },
  {
   "cell_type": "code",
   "execution_count": 30,
   "metadata": {},
   "outputs": [],
   "source": [
    "data_dir = '../data'\n",
    "\n",
    "oilspills_csvpath = os.path.join(data_dir, 'US_oilspills.csv')\n"
   ]
  },
  {
   "cell_type": "markdown",
   "metadata": {},
   "source": [
    "Initial findings from loading data:\n",
    "-  3710 rows of data, each has an ID, open_date, name, lat and lon. \n",
    "-  We drop all the columns with all NaN values as these contain no useful information\n",
    "-  We also drop the row of index '8039' as this is the only one with data inside the other 'field' columns (12/13/14/15/24/25 with 1 non-null value each) and is an outlier. This may infact contain useful information however we are unsure what to do with it and want to visualise the bulk of our data with a simple version 1 right now. This could be a future endeavour\n",
    "-  It is unsure what field_10 represents, this could be important and a future task could be to include it. However, for now we remove it as it has no meaning right now.\n",
    "-  It looks like field_11 contains furthe information. So we will rename the column as such.\n",
    "\n",
    "So we create a function to load and format our data with the above points in mind.\n",
    "We would be left with columns:\n",
    "-  open_date \n",
    "-  name \n",
    "-  location\n",
    "-  lat\n",
    "-  lon\n",
    "-  threat\n",
    "-  commodity\n",
    "-  max_ptl_release_gallons\n",
    "-  description"
   ]
  },
  {
   "cell_type": "code",
   "execution_count": 41,
   "metadata": {},
   "outputs": [],
   "source": [
    "def load_oilspills(csvpath: str) -> pd.DataFrame:\n",
    "    \n",
    "    oilspills = pd.read_csv(csvpath, \n",
    "                            index_col='id', \n",
    "                            dtype=dtypes, \n",
    "                            parse_dates=['open_date'])\n",
    "\n",
    "    # remove anomalous row (contains additional fields in columns)\n",
    "    row_8039 = oilspills[oilspills['field_12'].notna()]\n",
    "    oilspills = oilspills.drop(row_8039.index)\n",
    "\n",
    "    # drop columns with NaN values\n",
    "    oilspills = oilspills.dropna(axis=1, how='all')\n",
    "\n",
    "    # drop column: 'field_10'\n",
    "    oilspills = oilspills.drop(['field_10'], axis=1)\n",
    "\n",
    "    oilspills = oilspills.rename(columns={'field_11':'description'})\n",
    "    \n",
    "    return oilspills\n"
   ]
  },
  {
   "cell_type": "code",
   "execution_count": 43,
   "metadata": {},
   "outputs": [
    {
     "data": {
      "text/plain": [
       "Index(['open_date', 'name', 'location', 'lat', 'lon', 'threat', 'commodity',\n",
       "       'max_ptl_release_gallons', 'description'],\n",
       "      dtype='object')"
      ]
     },
     "execution_count": 43,
     "metadata": {},
     "output_type": "execute_result"
    }
   ],
   "source": [
    "load_oilspills(oilspills_csvpath).columns"
   ]
  },
  {
   "cell_type": "markdown",
   "metadata": {},
   "source": [
    "field numbers: 12,13,14,15,24 and 25 have 1 non-null value each. Let's look at these."
   ]
  },
  {
   "cell_type": "code",
   "execution_count": null,
   "metadata": {},
   "outputs": [],
   "source": [
    "oilspills['threat'].value_counts()"
   ]
  },
  {
   "cell_type": "code",
   "execution_count": null,
   "metadata": {},
   "outputs": [],
   "source": [
    "oilspills['commodity'].value_counts()\n",
    "# seems like we have some cases where upper case is the same as lower case. "
   ]
  },
  {
   "cell_type": "code",
   "execution_count": null,
   "metadata": {},
   "outputs": [],
   "source": []
  }
 ],
 "metadata": {
  "kernelspec": {
   "display_name": "Python 3",
   "language": "python",
   "name": "python3"
  },
  "language_info": {
   "codemirror_mode": {
    "name": "ipython",
    "version": 3
   },
   "file_extension": ".py",
   "mimetype": "text/x-python",
   "name": "python",
   "nbconvert_exporter": "python",
   "pygments_lexer": "ipython3",
   "version": "3.7.6"
  }
 },
 "nbformat": 4,
 "nbformat_minor": 4
}
