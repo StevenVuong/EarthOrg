{
 "cells": [
  {
   "cell_type": "code",
   "execution_count": 29,
   "metadata": {},
   "outputs": [],
   "source": [
    "import pandas as pd\n",
    "import os\n",
    "import pprint\n",
    "import seaborn as sns\n",
    "import matplotlib.pyplot as plt\n",
    "\n",
    "%matplotlib inline\n",
    "sns.set(style=\"darkgrid\")\n"
   ]
  },
  {
   "cell_type": "code",
   "execution_count": 15,
   "metadata": {},
   "outputs": [],
   "source": [
    "data_dir = '../data'\n",
    "\n",
    "oilspills_csvpath = os.path.join(data_dir, 'US_oilspills.csv')"
   ]
  },
  {
   "cell_type": "markdown",
   "metadata": {},
   "source": [
    "Initial findings from loading data:\n",
    "-  3710 rows of data, each has an ID, open_date, name, lat and lon. \n",
    "-  We drop all the columns with all NaN values as these contain no useful information\n",
    "-  We also drop the row of index '8039' as this is the only one with data inside the other 'field' columns (12/13/14/15/24/25 with 1 non-null value each) and is an outlier. This may infact contain useful information however we are unsure what to do with it and want to visualise the bulk of our data with a simple version 1 right now. This could be a future endeavour\n",
    "-  It is unsure what field_10 represents, this could be important and a future task could be to include it. However, for now we remove it as it has no meaning right now.\n",
    "-  It looks like field_11 contains furthe information. So we will rename the column as such.\n",
    "\n",
    "So we create a function to load and format our data with the above points in mind.\n",
    "We would be left with columns:\n",
    "-  id\n",
    "-  open_date: YYYY-DD-MM ex. 2020-02-27, granularity of days\n",
    "-  name \n",
    "-  location: String Description of location\n",
    "-  lat\n",
    "-  lon\n",
    "-  threat: Oil/Chemical/Other\n",
    "-  commodity\n",
    "-  max_ptl_release_gallons: Floating Value\n",
    "-  description"
   ]
  },
  {
   "cell_type": "code",
   "execution_count": 5,
   "metadata": {},
   "outputs": [],
   "source": [
    "def load_oilspills(csvpath: str) -> pd.DataFrame:\n",
    "    \n",
    "    oilspills = pd.read_csv(csvpath, \n",
    "                            index_col='id', \n",
    "                            parse_dates=['open_date'])\n",
    "\n",
    "    # remove anomalous row (contains additional fields in columns)\n",
    "    row_8039 = oilspills[oilspills['field_12'].notna()]\n",
    "    oilspills = oilspills.drop(row_8039.index)\n",
    "\n",
    "    # drop columns with NaN values\n",
    "    oilspills = oilspills.dropna(axis=1, how='all')\n",
    "\n",
    "    # drop column: 'field_10'\n",
    "    oilspills = oilspills.drop(['field_10'], axis=1)\n",
    "\n",
    "    oilspills = oilspills.rename(columns={'field_11':'description'})\n",
    "    \n",
    "    return oilspills\n"
   ]
  },
  {
   "cell_type": "code",
   "execution_count": 14,
   "metadata": {},
   "outputs": [
    {
     "data": {
      "text/html": [
       "<div>\n",
       "<style scoped>\n",
       "    .dataframe tbody tr th:only-of-type {\n",
       "        vertical-align: middle;\n",
       "    }\n",
       "\n",
       "    .dataframe tbody tr th {\n",
       "        vertical-align: top;\n",
       "    }\n",
       "\n",
       "    .dataframe thead th {\n",
       "        text-align: right;\n",
       "    }\n",
       "</style>\n",
       "<table border=\"1\" class=\"dataframe\">\n",
       "  <thead>\n",
       "    <tr style=\"text-align: right;\">\n",
       "      <th></th>\n",
       "      <th>open_date</th>\n",
       "      <th>name</th>\n",
       "      <th>location</th>\n",
       "      <th>lat</th>\n",
       "      <th>lon</th>\n",
       "      <th>threat</th>\n",
       "      <th>commodity</th>\n",
       "      <th>max_ptl_release_gallons</th>\n",
       "      <th>description</th>\n",
       "    </tr>\n",
       "    <tr>\n",
       "      <th>id</th>\n",
       "      <th></th>\n",
       "      <th></th>\n",
       "      <th></th>\n",
       "      <th></th>\n",
       "      <th></th>\n",
       "      <th></th>\n",
       "      <th></th>\n",
       "      <th></th>\n",
       "      <th></th>\n",
       "    </tr>\n",
       "  </thead>\n",
       "  <tbody>\n",
       "    <tr>\n",
       "      <th>10049</th>\n",
       "      <td>2020-02-27</td>\n",
       "      <td>Partially Submerged Recreational Vessel Huron ...</td>\n",
       "      <td>Huron, OH</td>\n",
       "      <td>41.391532</td>\n",
       "      <td>-82.554591</td>\n",
       "      <td>Oil</td>\n",
       "      <td>NaN</td>\n",
       "      <td>NaN</td>\n",
       "      <td>On February 27, 2020, SSC received notificatio...</td>\n",
       "    </tr>\n",
       "    <tr>\n",
       "      <th>10050</th>\n",
       "      <td>2020-02-27</td>\n",
       "      <td>Whitney Tank Battery 160 Loomis Pass Spill</td>\n",
       "      <td>Venice, LA, USA</td>\n",
       "      <td>29.116625</td>\n",
       "      <td>-89.180917</td>\n",
       "      <td>Oil</td>\n",
       "      <td>NaN</td>\n",
       "      <td>NaN</td>\n",
       "      <td>On February 27, 2020, the USCG Sector New Orle...</td>\n",
       "    </tr>\n",
       "    <tr>\n",
       "      <th>10048</th>\n",
       "      <td>2020-02-24</td>\n",
       "      <td>Gray whale carcass</td>\n",
       "      <td>Port Hueneme, CA</td>\n",
       "      <td>34.149744</td>\n",
       "      <td>-119.208226</td>\n",
       "      <td>Other</td>\n",
       "      <td>NaN</td>\n",
       "      <td>NaN</td>\n",
       "      <td>On 24-FEB-2020, NMFS Stranding Coordinator in ...</td>\n",
       "    </tr>\n",
       "    <tr>\n",
       "      <th>10047</th>\n",
       "      <td>2020-02-20</td>\n",
       "      <td>Recreational vessel sunk in Anacortes Skyline ...</td>\n",
       "      <td>2400 Skyline Way, Anacortes, WA 98221, USA</td>\n",
       "      <td>48.492559</td>\n",
       "      <td>-122.680368</td>\n",
       "      <td>Oil</td>\n",
       "      <td>NaN</td>\n",
       "      <td>NaN</td>\n",
       "      <td>On February 20, 2020, the SEA WOLF, a 44 foot ...</td>\n",
       "    </tr>\n",
       "    <tr>\n",
       "      <th>10046</th>\n",
       "      <td>2020-02-17</td>\n",
       "      <td>North Santiam River - Truck Spill</td>\n",
       "      <td>N Santiam Hwy, Detroit, OR 97342, USA</td>\n",
       "      <td>44.697000</td>\n",
       "      <td>-122.226890</td>\n",
       "      <td>Oil</td>\n",
       "      <td>NaN</td>\n",
       "      <td>NaN</td>\n",
       "      <td>On the morning of 16 FEB 2020 along the  Santi...</td>\n",
       "    </tr>\n",
       "  </tbody>\n",
       "</table>\n",
       "</div>"
      ],
      "text/plain": [
       "       open_date                                               name  \\\n",
       "id                                                                    \n",
       "10049 2020-02-27  Partially Submerged Recreational Vessel Huron ...   \n",
       "10050 2020-02-27         Whitney Tank Battery 160 Loomis Pass Spill   \n",
       "10048 2020-02-24                                 Gray whale carcass   \n",
       "10047 2020-02-20  Recreational vessel sunk in Anacortes Skyline ...   \n",
       "10046 2020-02-17                  North Santiam River - Truck Spill   \n",
       "\n",
       "                                         location        lat         lon  \\\n",
       "id                                                                         \n",
       "10049                                   Huron, OH  41.391532  -82.554591   \n",
       "10050                             Venice, LA, USA  29.116625  -89.180917   \n",
       "10048                            Port Hueneme, CA  34.149744 -119.208226   \n",
       "10047  2400 Skyline Way, Anacortes, WA 98221, USA  48.492559 -122.680368   \n",
       "10046       N Santiam Hwy, Detroit, OR 97342, USA  44.697000 -122.226890   \n",
       "\n",
       "      threat commodity  max_ptl_release_gallons  \\\n",
       "id                                                \n",
       "10049    Oil       NaN                      NaN   \n",
       "10050    Oil       NaN                      NaN   \n",
       "10048  Other       NaN                      NaN   \n",
       "10047    Oil       NaN                      NaN   \n",
       "10046    Oil       NaN                      NaN   \n",
       "\n",
       "                                             description  \n",
       "id                                                        \n",
       "10049  On February 27, 2020, SSC received notificatio...  \n",
       "10050  On February 27, 2020, the USCG Sector New Orle...  \n",
       "10048  On 24-FEB-2020, NMFS Stranding Coordinator in ...  \n",
       "10047  On February 20, 2020, the SEA WOLF, a 44 foot ...  \n",
       "10046  On the morning of 16 FEB 2020 along the  Santi...  "
      ]
     },
     "execution_count": 14,
     "metadata": {},
     "output_type": "execute_result"
    }
   ],
   "source": [
    "oilspills = load_oilspills(oilspills_csvpath)\n",
    "oilspills.head()"
   ]
  },
  {
   "cell_type": "markdown",
   "metadata": {},
   "source": [
    "With that, we can try to discover more about our dataset through visualiastions."
   ]
  },
  {
   "cell_type": "code",
   "execution_count": 22,
   "metadata": {},
   "outputs": [
    {
     "name": "stdout",
     "output_type": "stream",
     "text": [
      "Earliest Incident Occurred on: 1957-03-29 00:00:00\n",
      "Latest Incident Occurred on: 2020-11-02 00:00:00\n"
     ]
    }
   ],
   "source": [
    "earliest_incident_date = min(oilspills['open_date'])\n",
    "latest_incident_date = max(oilspills['open_date'])\n",
    "\n",
    "print(f\"Earliest Incident Occurred on: {earliest_incident_date}\")\n",
    "print(f\"Latest Incident Occurred on: {latest_incident_date}\")"
   ]
  },
  {
   "cell_type": "code",
   "execution_count": 41,
   "metadata": {},
   "outputs": [
    {
     "data": {
      "image/png": "[encoded data removed]",
      "text/plain": [
       "<Figure size 432x288 with 1 Axes>"
      ]
     },
     "metadata": {},
     "output_type": "display_data"
    }
   ],
   "source": [
    "threat_count = oilspills['threat'].value_counts()\n",
    "\n",
    "sns.barplot(threat_count.index, threat_count.values, alpha=0.9)\n",
    "\n",
    "plt.title('Frequency Distribution of Threats')\n",
    "plt.ylabel('Number of Occurrences', fontsize=12)\n",
    "plt.xlabel('Threat Type', fontsize=12)\n",
    "plt.show()"
   ]
  },
  {
   "cell_type": "markdown",
   "metadata": {},
   "source": [
    "Findings that emerge:\n",
    "-  Oilspills are the most common threat type"
   ]
  },
  {
   "cell_type": "code",
   "execution_count": null,
   "metadata": {},
   "outputs": [],
   "source": []
  },
  {
   "cell_type": "markdown",
   "metadata": {},
   "source": [
    "Group by years and months to see trends over time"
   ]
  },
  {
   "cell_type": "code",
   "execution_count": null,
   "metadata": {},
   "outputs": [],
   "source": [
    "oil"
   ]
  },
  {
   "cell_type": "markdown",
   "metadata": {},
   "source": [
    "It seems by and large, 'Oil' threats are the mosts common"
   ]
  },
  {
   "cell_type": "code",
   "execution_count": 24,
   "metadata": {},
   "outputs": [
    {
     "data": {
      "text/plain": [
       "Diesel                                   253\n",
       "diesel                                   248\n",
       "Oil                                       90\n",
       "Crude Oil                                 62\n",
       "crude oil                                 61\n",
       "                                        ... \n",
       "Vacuum Gas Oil                             1\n",
       "calcium chloride solution                  1\n",
       "North Slope Alaskan crude                  1\n",
       "Epichlorhydrin                             1\n",
       "900 gallons diesel, 200,000 lbs. fish      1\n",
       "Name: commodity, Length: 1392, dtype: int64"
      ]
     },
     "execution_count": 24,
     "metadata": {},
     "output_type": "execute_result"
    }
   ],
   "source": [
    "oilspills['commodity'].value_counts()\n",
    "# seems like we have some cases where upper case is the same as lower case. "
   ]
  },
  {
   "cell_type": "code",
   "execution_count": null,
   "metadata": {},
   "outputs": [],
   "source": []
  }
 ],
 "metadata": {
  "kernelspec": {
   "display_name": "Python 3",
   "language": "python",
   "name": "python3"
  },
  "language_info": {
   "codemirror_mode": {
    "name": "ipython",
    "version": 3
   },
   "file_extension": ".py",
   "mimetype": "text/x-python",
   "name": "python",
   "nbconvert_exporter": "python",
   "pygments_lexer": "ipython3",
   "version": "3.7.6"
  }
 },
 "nbformat": 4,
 "nbformat_minor": 4
}
